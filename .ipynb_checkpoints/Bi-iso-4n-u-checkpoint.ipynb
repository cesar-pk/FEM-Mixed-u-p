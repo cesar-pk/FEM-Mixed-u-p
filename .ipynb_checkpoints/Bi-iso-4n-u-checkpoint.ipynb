{
 "cells": [
  {
   "cell_type": "code",
   "execution_count": 1,
   "id": "15276413-fc64-4d37-9cf8-bd9fedc7000b",
   "metadata": {},
   "outputs": [
    {
     "data": {
      "text/plain": [
       "Aplica_CC_lagrange (generic function with 1 method)"
      ]
     },
     "execution_count": 1,
     "metadata": {},
     "output_type": "execute_result"
    }
   ],
   "source": [
    "#\n",
    "# Aplica condições de contorno essenciais \n",
    "# homogêneas\n",
    "#\n",
    "function Aplica_CC_homo!(apoios,K,F)\n",
    "\n",
    "    # Aplica as condições de contorno essenciais homogêneas\n",
    "    for i=1:size(apoios,1) \n",
    "\n",
    "        # No e gl local do apoio\n",
    "        no  = Int(apoios[i,1])\n",
    "        gll = Int(apoios[i,2])\n",
    "\n",
    "        # Testa se o usuário tem ideia do que\n",
    "        # ele está fazendo\n",
    "        if apoios[i,3]!=0 \n",
    "            error(\"Sua anta\")\n",
    "        end\n",
    "\n",
    "        # Gl global\n",
    "        gl = 2*(no-1) + gll\n",
    "\n",
    "        # Zera linha e coluna da rigidez\n",
    "        K[gl,:] .= 0.0\n",
    "        K[:,gl] .= 0.0\n",
    "\n",
    "        # Zera o vetor de forças nesse gl\n",
    "        F[gl] = 0.0\n",
    "\n",
    "        # Coloca 1.0 na diagonal\n",
    "        K[gl,gl] = 1.0\n",
    "\n",
    "    end #gls\n",
    "\n",
    "end\n",
    "\n",
    "\n",
    "#\n",
    "# Aplica cc essenciais por Multiplicadores de Lagrange\n",
    "#\n",
    "# Monta o sistema aumentado\n",
    "# [K S' {U}= {F}\n",
    "#  S 0] {L}  {Ub}\n",
    "#\n",
    "#\n",
    "function Aplica_CC_lagrange(nnos,apoios,K,F)\n",
    "\n",
    "    # Número de gls do problema original\n",
    "    n = 2*nnos\n",
    "\n",
    "    # Número de cc essenciais\n",
    "    m = size(apoios,1)\n",
    "\n",
    "    # Define o sistema aumentado de equações\n",
    "    KA = zeros(n+m,n+m)\n",
    "    FA = zeros(n+m)\n",
    "\n",
    "    # Define a matriz S e o vetor Ub\n",
    "    S  = zeros(m,n)\n",
    "    Ub = zeros(m)\n",
    "\n",
    "    # Aplica as condições de contorno essenciais\n",
    "    for i=1:m \n",
    "\n",
    "        # No e gl local do apoio\n",
    "        no  = Int(apoios[i,1])\n",
    "        gll = Int(apoios[i,2])\n",
    "        valor = apoios[i,3]\n",
    "\n",
    "        # Gl global\n",
    "        gl = 2*(no-1) + gll\n",
    "\n",
    "        # Posiciona na linha da matriz S\n",
    "        S[i,gl] = 1.0\n",
    "\n",
    "        # Posiciona o valor em Ub\n",
    "        Ub[i] = valor\n",
    "\n",
    "    end\n",
    "\n",
    "    # Posiciona os blocos na matriz e no vetor aumentados\n",
    "    KA[1:n,1:n]     .= K\n",
    "    KA[1:n,n+1:end] .= S'\n",
    "    KA[n+1:end,1:n] .= S\n",
    "\n",
    "    FA[1:n]     .= F\n",
    "    FA[n+1:end] .= Ub\n",
    "\n",
    "    return KA, FA\n",
    "end"
   ]
  },
  {
   "cell_type": "code",
   "execution_count": 2,
   "id": "65a6a5a9-34f9-4de9-b32c-9dee864527f2",
   "metadata": {},
   "outputs": [
    {
     "data": {
      "text/plain": [
       "Forca_global (generic function with 1 method)"
      ]
     },
     "execution_count": 2,
     "metadata": {},
     "output_type": "execute_result"
    }
   ],
   "source": [
    "#\n",
    "# conectividades é uma matriz com ne linhas (número de elementos)\n",
    "# e 2 colunas (nó inicial e nó final)\n",
    "#\n",
    "function Global(ne,nnos,conectividades,coord, VE,Vnuxy, esp)\n",
    "\n",
    "    # Precisamos definir a matriz global\n",
    "    K = zeros(2*nnos,2*nnos)\n",
    "\n",
    "    # Aloca vetores para as coordenadas de cada elemento\n",
    "    X = zeros(4)\n",
    "    Y = zeros(4)\n",
    "    nos = zeros(4)\n",
    "    gls = zeros(Int,8)\n",
    "\n",
    "    # Loop nos elementos da malha\n",
    "    for ele=1:ne\n",
    "\n",
    "        # Recupera as informações do elemento\n",
    "        Ee = VE[ele]\n",
    "        ve = Vnuxy[ele]\n",
    "\n",
    "        # Monta a matriz constitutiva do elemento\n",
    "        C = Calcula_C(Ee,ve,\"EPD\")\n",
    "\n",
    "        # Recupera as coordenadas do elemento\n",
    "        for i=1:4\n",
    "            # Descobre o nó\n",
    "            no = conectividades[ele,i]\n",
    "            \n",
    "            # Guarda os nós do elemento\n",
    "            nos[i] = no\n",
    "\n",
    "            # Descobre as coordenadas\n",
    "            X[i],Y[i] = coord[no,:]\n",
    "        end\n",
    "\n",
    "        # Monta a matriz de rigidez do elemento\n",
    "        # no sistema local\n",
    "        Kg = K_bi4n(C,X,Y,esp)\n",
    "\n",
    "        # Agora precisamos posicionar Kg na matriz global do problema\n",
    "\n",
    "        # Vetor com os gls GLOBAIS do elemento\n",
    "        contador = 1\n",
    "        # Varre os nós\n",
    "        for i=1:4\n",
    "            # Varre os gls do nó\n",
    "            for j=1:2\n",
    "                gls[contador] = Int(2*(nos[i]-1)+j)\n",
    "                contador += 1\n",
    "            end\n",
    "        end\n",
    "\n",
    "        # Soma Kg nas posições gls em K\n",
    "        K[gls,gls] .= K[gls,gls] .+ Kg\n",
    "\n",
    "    end #ele\n",
    "\n",
    "    # Retorna a matriz de rigidez do problema\n",
    "    return K\n",
    "\n",
    "end\n",
    "\n",
    "\n",
    "#\n",
    "# Monta o vetor de força global\n",
    "#\n",
    "function Forca_global(nnos,forcas)\n",
    "\n",
    "    # Montar o vetor de forças global\n",
    "    F = zeros(2*nnos)\n",
    "\n",
    "    # Para cada informação em forças \n",
    "    # posiciona a força no vetor de forças\n",
    "    # globais do problema\n",
    "    for i=1:size(forcas,1)\n",
    "       \n",
    "        # Recupera nó e gl local \n",
    "        no  = Int(forcas[i,1])\n",
    "        gll = Int(forcas[i,2])\n",
    "\n",
    "        # Recupera valor\n",
    "        valor = forcas[i,3]\n",
    "\n",
    "        # Adiciona ao valor da força\n",
    "        F[2*(no-1)+gll] += valor\n",
    "\n",
    "    end #i\n",
    "\n",
    "    return F\n",
    "end"
   ]
  },
  {
   "cell_type": "code",
   "execution_count": 3,
   "id": "f00a607a-72c5-4285-bd94-c5bc5e72bcac",
   "metadata": {},
   "outputs": [
    {
     "data": {
      "text/plain": [
       "Calcula_C (generic function with 2 methods)"
      ]
     },
     "execution_count": 3,
     "metadata": {},
     "output_type": "execute_result"
    }
   ],
   "source": [
    "\n",
    "# Monta a matriz constitutiva dado E,v e a hipótese\n",
    "function Calcula_C(E,v,hipotese=\"EPD\")\n",
    "\n",
    "    # Testa se hipotese é válida\n",
    "    hipotese in [\"EPT\",\"EPD\"] || throw(\"Hipotese errada\")\n",
    "\n",
    "    G = E/(2*(1+v))\n",
    "       \n",
    "    if hipotese==\"EPT\"\n",
    "        a = E/(1-v^2)\n",
    "        C = [a v*a 0.0 ;\n",
    "            v*a a  0.0 ;\n",
    "              0  0  G]\n",
    "\n",
    "    elseif hipotese==\"EPD\"\n",
    "        d = (v+1)*(2*v-1)  \n",
    "        a = E*(v-1)/d\n",
    "        b = -(E*v)/d\n",
    "        C = [a b 0 ;\n",
    "             b a 0 ;\n",
    "             0 0 G]\n",
    "    else\n",
    " \n",
    "        C = [a b b 0 0 0 ;\n",
    "             b a b 0 0 0 ;\n",
    "             b b a 0 0 0 ;\n",
    "             0 0 0 G 0 0 ;\n",
    "             0 0 0 0 G 0 ;\n",
    "             0 0 0 0 0 G]\n",
    "\n",
    "    end\n",
    "    \n",
    "    return C\n",
    "\n",
    "end"
   ]
  },
  {
   "cell_type": "code",
   "execution_count": 4,
   "id": "358892b5-1165-459c-a919-1428749f0033",
   "metadata": {},
   "outputs": [
    {
     "data": {
      "text/plain": [
       "K_bi4n (generic function with 1 method)"
      ]
     },
     "execution_count": 4,
     "metadata": {},
     "output_type": "execute_result"
    }
   ],
   "source": [
    "   # N1 = 0.25(1-r)(1-s)\n",
    "   # N2 = 0.25(1+r)(1-s)\n",
    "   # N3 = 0.25(1+r)(1+s)\n",
    "   # N4 = 0.25(1-r)(1+s)\n",
    "\n",
    "\n",
    "#\n",
    "# Calcula a matriz B e o determinante da matriz\n",
    "# Jacobiana no ponto (r,s) \n",
    "#\n",
    "function B_bi4n(r,s,X,Y)\n",
    "\n",
    "   # Vetores com as derivadas das funções de interpolação\n",
    "   # em relação a r e a s\n",
    "   dNr = [ -0.25*(1-s) ; 0.25*(1-s) ; 0.25*(1+s)  ; -0.25*(1+s)   ]\n",
    "   dNs = [ -0.25*(1-r) ;-0.25*(1+r) ; 0.25*(1+r)  ;  0.25*(1-r)   ]  \n",
    "   nnos = length(dNr) \n",
    "\n",
    "   # Aloca e calcula a matriz J\n",
    "   J = zeros(2,2)\n",
    "\n",
    "   # Loop do somatório para cada posição de J, i depende da quantidade de nós do elemento\n",
    "   for i=1:nnos\n",
    "       J[1,1] += dNr[i]*X[i]\n",
    "       J[1,2] += dNr[i]*Y[i]\n",
    "       J[2,1] += dNs[i]*X[i]\n",
    "       J[2,2] += dNs[i]*Y[i]\n",
    "   end #i\n",
    "\n",
    "   # Calcula o determinante\n",
    "   dJ = det(J)\n",
    "\n",
    "   # Calcula a inversa da J\n",
    "   invJ = inv(J)\n",
    "\n",
    "   # Aloca a matriz B\n",
    "   B = zeros(3,2*nnos)\n",
    "\n",
    "\n",
    "   # Loop pelos blocos da B, com as correções de derivadas\n",
    "   c = 1\n",
    "   for i=1:nnos\n",
    "     \n",
    "       # Correção das derivadas para este bloco\n",
    "       dNxy = invJ*[dNr[i];dNs[i]]\n",
    "\n",
    "       # Posiciona na B\n",
    "       B[1,c]   = dNxy[1]\n",
    "       B[2,c+1] = dNxy[2]\n",
    "       B[3,c]   = dNxy[2]\n",
    "       B[3,c+1] = dNxy[1]\n",
    "\n",
    "       # Atualiza a apontador de bloco\n",
    "       c += 2\n",
    "\n",
    "   end #i\n",
    "\n",
    "   return dJ, B\n",
    "end\n",
    "\n",
    "\n",
    "\n",
    "#\n",
    "# Monta a matriz de rigidez de um elemento\n",
    "# bilinear isoparamétrico de 4 nós\n",
    "#\n",
    "function K_bi4n(C::AbstractMatrix,X::Vector,Y::Vector,esp::Float64)\n",
    "\n",
    "    # Aloca a matriz do elemento\n",
    "    K = zeros(8,8)\n",
    "\n",
    "    # Define a quadratura \n",
    "    pg = [-1/sqrt(3) ; 1/sqrt(3)]\n",
    "    W  = [1.0 ; 1.0]\n",
    "\n",
    "    # Loop pelos pontos de Gauss\n",
    "    for i=1:2\n",
    "        r  = pg[i]\n",
    "        wr = W[i]\n",
    "        for j=1:2\n",
    "           s  = pg[j]  \n",
    "           ws = W[j]\n",
    "\n",
    "           # calcula o dJ e o B\n",
    "           dJ, B = B_bi4n(r,s,X,Y)\n",
    "\n",
    "           # Acumula o produto nesses ptos\n",
    "           K = K + B'*C*B*dJ*esp\n",
    "\n",
    "        end #j\n",
    "    end # i\n",
    "\n",
    "    # Retorna a matriz de rigidez do elmemento\n",
    "    return K\n",
    "\n",
    "end\n"
   ]
  },
  {
   "cell_type": "code",
   "execution_count": 15,
   "id": "d0ae08ea-f141-4b6e-9c64-c639e0376ab2",
   "metadata": {},
   "outputs": [
    {
     "data": {
      "text/plain": [
       "main2 (generic function with 1 method)"
      ]
     },
     "execution_count": 15,
     "metadata": {},
     "output_type": "execute_result"
    }
   ],
   "source": [
    "using LinearAlgebra\n",
    "\n",
    "function main2(func::Function, v0)\n",
    "\n",
    "    nnos,ne,dim,coord,conectividades,VE,Vnuxy,apoios,forcas = func(v0)\n",
    "    esp = 1.0\n",
    "    \n",
    "    # Monta a matriz global do problema\n",
    "    K = Global(ne,nnos,conectividades,coord, VE, Vnuxy, esp)\n",
    "    \n",
    "\n",
    "    # Monta o vetor de forças globais concentradas\n",
    "    F = Forca_global(nnos,forcas)\n",
    "\n",
    "    # Modifica o sistema pela aplicação das condições de contorno\n",
    "    # homogêneas\n",
    "    Aplica_CC_homo!(apoios,K,F)\n",
    "    #KA, FA = Aplica_CC_lagrange(nnos,apoios,K,F)\n",
    "    \n",
    "    # Soluciona o sistema de equações, obtendo os deslocamentos\n",
    "    U = K\\F\n",
    "    #UA = KA\\FA\n",
    "\n",
    "    # Só os deslocamentos que nos interessam\n",
    "    #U = UA[1:2*nnos]\n",
    "\n",
    "    # Retorna U\n",
    "    return U , K\n",
    "\n",
    "end\n"
   ]
  },
  {
   "cell_type": "code",
   "execution_count": 16,
   "id": "f7b47dd6-3825-4fc9-a25a-2fcba7e87c7f",
   "metadata": {},
   "outputs": [
    {
     "data": {
      "text/plain": [
       "caso_f (generic function with 1 method)"
      ]
     },
     "execution_count": 16,
     "metadata": {},
     "output_type": "execute_result"
    }
   ],
   "source": [
    "using NBInclude\n",
    "@nbinclude(\"casos.ipynb\")"
   ]
  },
  {
   "cell_type": "code",
   "execution_count": 28,
   "id": "50b46356-a2da-4afd-80f0-2ca252a64a98",
   "metadata": {},
   "outputs": [
    {
     "data": {
      "text/plain": [
       "([0.0, 0.0, -1.499954225025554, 0.0, -1.499954225029152, 1.4999542250261535, -3.5978031246149346e-12, 1.4999542250261542], [1.0 0.0 … 0.0 0.0; 0.0 1.0 … 0.0 0.0; … ; 0.0 0.0 … 5.556912366429264e11 -4.167684274820281e11; 0.0 0.0 … -4.167684274820281e11 5.556912366429264e11])"
      ]
     },
     "execution_count": 28,
     "metadata": {},
     "output_type": "execute_result"
    }
   ],
   "source": [
    "U , K = main2(caso_c,0.4999999999999)"
   ]
  },
  {
   "cell_type": "code",
   "execution_count": 29,
   "id": "40cba8f3-ef93-45a9-a03e-dd47203ecc12",
   "metadata": {},
   "outputs": [
    {
     "data": {
      "text/plain": [
       "8-element Vector{Float64}:\n",
       "  0.0\n",
       "  0.0\n",
       " -1.499954225025554\n",
       "  0.0\n",
       " -1.499954225029152\n",
       "  1.4999542250261535\n",
       " -3.5978031246149346e-12\n",
       "  1.4999542250261542"
      ]
     },
     "execution_count": 29,
     "metadata": {},
     "output_type": "execute_result"
    }
   ],
   "source": [
    "U"
   ]
  },
  {
   "cell_type": "code",
   "execution_count": 19,
   "id": "bcd64676-ed9e-4fec-b9a0-7afe50ba56ac",
   "metadata": {},
   "outputs": [
    {
     "data": {
      "text/plain": [
       "8×8 Matrix{Float64}:\n",
       "  2.78e16     0.0  -2.78e16     0.0  -1.39000e16  0.0  0.0  0.0\n",
       "  0.0         1.0   0.0         0.0   0.0         0.0  0.0  0.0\n",
       " -2.78e16     0.0   2.78e16     0.0   1.39000e16  0.0  0.0  0.0\n",
       "  0.0         0.0   0.0         1.0   0.0         0.0  0.0  0.0\n",
       " -1.39000e16  0.0   1.39000e16  0.0   2.78e16     0.0  0.0  0.0\n",
       "  0.0         0.0   0.0         0.0   0.0         1.0  0.0  0.0\n",
       "  0.0         0.0   0.0         0.0   0.0         0.0  1.0  0.0\n",
       "  0.0         0.0   0.0         0.0   0.0         0.0  0.0  1.0"
      ]
     },
     "metadata": {},
     "output_type": "display_data"
    }
   ],
   "source": [
    "display(K)"
   ]
  },
  {
   "cell_type": "code",
   "execution_count": 31,
   "id": "de6f4496-0cdf-44b6-af64-32596ed9c213",
   "metadata": {},
   "outputs": [
    {
     "name": "stdout",
     "output_type": "stream",
     "text": [
      "Deslocamentos dos nós:\n",
      "Nó 1: Ux = 0.0, Uy = 0.0\n",
      "Nó 2: Ux = -1.499954225025554, Uy = 0.0\n",
      "Nó 3: Ux = -1.499954225029152, Uy = 1.4999542250261535\n",
      "Nó 4: Ux = -3.5978031246149346e-12, Uy = 1.4999542250261542\n"
     ]
    }
   ],
   "source": [
    "function imprimir_resultados(deslocamentos)\n",
    "    n_nos = length(deslocamentos) ÷ 2\n",
    "    println(\"Deslocamentos dos nós:\")\n",
    "    for i in 1:n_nos\n",
    "        dx = deslocamentos[2*i-1]\n",
    "        dy = deslocamentos[2*i]\n",
    "        println(\"Nó $i: Ux = $dx, Uy = $dy\")\n",
    "    end\n",
    "end\n",
    "\n",
    "# Exemplo de uso\n",
    "imprimir_resultados(U)\n"
   ]
  },
  {
   "cell_type": "code",
   "execution_count": 58,
   "id": "b386bc13-5bea-46a2-a25f-6f7ab3de5ec4",
   "metadata": {},
   "outputs": [
    {
     "name": "stdout",
     "output_type": "stream",
     "text": [
      "Nó\tDeslocamento em x\tDeslocamento em y\n",
      "1\t0.0\t\t0.0\n",
      "2\t-1.499954225025554\t\t0.0\n",
      "3\t-1.499954225029152\t\t1.4999542250261535\n",
      "4\t-3.5978031246149346e-12\t\t1.4999542250261542\n"
     ]
    }
   ],
   "source": [
    "function imprimir_deslocamentos(deslocamentos)\n",
    "    n_nos = length(deslocamentos) ÷ 2\n",
    "    println(\"Nó\\tDeslocamento em x\\tDeslocamento em y\")\n",
    "    for i in 1:n_nos\n",
    "        desloc_x = deslocamentos[2*i-1]\n",
    "        desloc_y = deslocamentos[2*i]\n",
    "\n",
    "        println(\"$i\\t$desloc_x\\t\\t$desloc_y\")\n",
    "    end\n",
    "end\n",
    "\n",
    "# Exemplo de uso\n",
    "deslocamentos = [0.0, 0.0, -1.499954225025554, 0.0, -1.499954225029152, 1.4999542250261535, -3.5978031246149346e-12, 1.4999542250261542]\n",
    "imprimir_deslocamentos(deslocamentos)\n"
   ]
  },
  {
   "cell_type": "code",
   "execution_count": 75,
   "id": "00cff104-e62b-4108-878b-24c91278978e",
   "metadata": {},
   "outputs": [
    {
     "name": "stdout",
     "output_type": "stream",
     "text": [
      "Nó\tDeslocamento em x\tDeslocamento em y\n",
      "1\t     0.000\t               0.000\n",
      "2\t    -1.500\t               0.000\n",
      "3\t    -1.500\t               1.500\n",
      "4\t    -0.000\t               1.500\n"
     ]
    }
   ],
   "source": [
    "using Printf\n",
    "\n",
    "function imprimir(deslocamentos)\n",
    "    n_nos = length(deslocamentos) ÷ 2\n",
    "    # Cabeçalho da tabela\n",
    "    println(\"Nó\\tDeslocamento em x\\tDeslocamento em y\")\n",
    "    for i in 1:n_nos\n",
    "        desloc_x = deslocamentos[2*i-1]\n",
    "        desloc_y = deslocamentos[2*i]\n",
    "        @printf(\"%d\\t%10.3f\\t%20.3f\\n\", i, desloc_x, desloc_y)\n",
    "    end\n",
    "end\n",
    "\n",
    "imprimir(U)"
   ]
  },
  {
   "cell_type": "code",
   "execution_count": 43,
   "id": "f5070e9e-1598-4199-99d0-b00b90e83ba8",
   "metadata": {},
   "outputs": [
    {
     "data": {
      "text/plain": [
       "main (generic function with 1 method)"
      ]
     },
     "execution_count": 43,
     "metadata": {},
     "output_type": "execute_result"
    }
   ],
   "source": [
    "using LinearAlgebra\n",
    "\n",
    "function main() \n",
    "\n",
    "    # Entrada de dados na mão!\n",
    "    #numero de nós total do sistema. Depedende do tipo de elemento e da quantidade de elementos.  \n",
    "    # No caso abaixo temos 3 elementos de 4 nós. Como existem nós compartilhados, teremos 8 nós no total. \n",
    "    nnos = 8\n",
    "    ne = 3\n",
    "\n",
    "    coord = [0.0   0.0   ;\n",
    "             1.0   0.0   ;\n",
    "             2.0   0.0   ;\n",
    "             3.0   0.0   ;\n",
    "             0.0   5.0   ;\n",
    "             1.0   5.0   ;\n",
    "             2.0   5.0   ;\n",
    "             3.0   5.0   ]                  \n",
    "\n",
    "\n",
    "    conectividades = [1 2 6 5;\n",
    "                      2 3 7 6;\n",
    "                      3 4 8 7]\n",
    "    #VE é o modulo de elasticidade do elemento. Ele criou recurso pra poder usar diferentes.\n",
    "    VE =     ones(ne)\n",
    "    Vnuxy = (1/3)*ones(ne)\n",
    "\n",
    "    # Espessura\n",
    "    esp = 1.0\n",
    "\n",
    "    # Apoios (cond. de contorno essenciais)\n",
    "    #        no gl valor\n",
    "    apoios = [1 1 0.0;\n",
    "              1 2 0.0;\n",
    "              2 2 0.0;\n",
    "              3 2 0.0;\n",
    "              4 2 0.0;\n",
    "              5 1 0.0]\n",
    "\n",
    "    # Forças (cond. de contorno naturais)\n",
    "    #         no gl valor\n",
    "    P = 1.0\n",
    "    forcas = [4  1  P;\n",
    "              8  1  P]\n",
    "\n",
    "    # Monta a matriz global do problema\n",
    "    K = Global(ne,nnos,conectividades,coord, VE, Vnuxy, esp)\n",
    "\n",
    "    # Monta o vetor de forças globais concentradas\n",
    "    F = Forca_global(nnos,forcas)\n",
    "\n",
    "    # Modifica o sistema pela aplicação das condições de contorno\n",
    "    # homogêneas\n",
    "    # Aplica_CC_homo!(apoios,K,F)\n",
    "    KA, FA = Aplica_CC_lagrange(nnos,apoios,K,F)\n",
    "\n",
    "    # Soluciona o sistema de equações, obtendo os deslocamentos\n",
    "    # KU = F\n",
    "    UA = KA\\FA\n",
    "\n",
    "    # Só os deslocamentos que nos interessam\n",
    "    U = UA[1:2*nnos]\n",
    "\n",
    "    # Retorna U\n",
    "    return U\n",
    "\n",
    "end\n"
   ]
  },
  {
   "cell_type": "code",
   "execution_count": 11,
   "id": "c48121f8-08e2-4c8e-8bb8-76c275941bc6",
   "metadata": {},
   "outputs": [
    {
     "data": {
      "text/plain": [
       "Global_salva (generic function with 1 method)"
      ]
     },
     "execution_count": 11,
     "metadata": {},
     "output_type": "execute_result"
    }
   ],
   "source": [
    "function Global_salva(dim,ne,nnos,conectividades,coord, VE,Vnuxy, esp)\n",
    "\n",
    "    # Precisamos definir a matriz global\n",
    "    K = zeros(dim,dim)\n",
    "    @show K \n",
    "    # Aloca vetores para as coordenadas de cada elemento\n",
    "    X = zeros(nnos)\n",
    "    Y = zeros(nnos)\n",
    "    nos = zeros(nnos)\n",
    "    gls = zeros(Int,dim)\n",
    "    \n",
    "    # Loop nos elementos da malha\n",
    "    for ele=1:ne\n",
    "\n",
    "        # Recupera as informações do elemento\n",
    "        Ee = VE[ele]\n",
    "        ve = Vnuxy[ele]\n",
    "\n",
    "        # Monta a matriz constitutiva do elemento\n",
    "        C = Calcula_C(Ee,ve,\"INC\") #alterei o C para D, a principio tudo ok.\n",
    "\n",
    "        # Recupera as coordenadas do elemento\n",
    "        for i=1:nnos\n",
    "            # Descobre o nó\n",
    "            no = conectividades[ele,i]\n",
    "            \n",
    "            # Guarda os nós do elemento\n",
    "            nos[i] = no\n",
    "\n",
    "            # Descobre as coordenadas\n",
    "            X[i],Y[i] = coord[no,:]\n",
    "        end\n",
    "        \n",
    "        # Monta a matriz de rigidez do elemento\n",
    "        # no sistema local, com o elementos escolhido\n",
    "        \n",
    "        Kg = K_bi4n(dim,C,X,Y,esp)\n",
    "        @show Kg\n",
    "        println(\"aqui?\")\n",
    "        # Agora precisamos posicionar Kg na matriz global do problema\n",
    "\n",
    "        # Vetor com os gls GLOBAIS do elemento\n",
    "        contador = 1\n",
    "        # Varre os nós\n",
    "        for i=1:2*nnos # alterei aqui porque estava 2*nnos\n",
    "            # Varre os gls do nó\n",
    "            for j=1:2\n",
    "                gls[contador] = Int(2*(nos[i]-1)+j)\n",
    "                contador += 1\n",
    "                if contador == 7\n",
    "                    break\n",
    "                end\n",
    "            end\n",
    "            if contador == 7\n",
    "                break\n",
    "            end\n",
    "        end\n",
    "        # Soma Kg nas posições gls em . Montagem da global.\n",
    "        K[gls,gls] .= K[gls,gls] .+ Kg\n",
    "\n",
    "    end #ele\n",
    "\n",
    "    # Retorna a matriz de rigidez do problema\n",
    "    return K\n",
    "\n",
    "end"
   ]
  },
  {
   "cell_type": "code",
   "execution_count": 12,
   "id": "d4a5ee0f-3908-47a5-bb92-ebfa7c05b5e5",
   "metadata": {},
   "outputs": [
    {
     "data": {
      "text/plain": [
       "Gglobal (generic function with 1 method)"
      ]
     },
     "execution_count": 12,
     "metadata": {},
     "output_type": "execute_result"
    }
   ],
   "source": [
    "function Gglobal(dim,ne,nnos,conectividades,coord, VE,Vnuxy, esp)\n",
    "    # Aloca vetores para as coordenadas de cada elemento\n",
    "    X = zeros(nnos)\n",
    "    Y = zeros(nnos)\n",
    "    nos = zeros(nnos)\n",
    "    gls = zeros(Int,dim)\n",
    "\n",
    "    # Loop nos elementos da malha\n",
    "    for ele=1:ne\n",
    "\n",
    "        # Recupera as informações do elemento\n",
    "        Ee = VE[ele]\n",
    "        ve = Vnuxy[ele]\n",
    "\n",
    "        # Monta a matriz constitutiva do elemento\n",
    "        C = Calcula_C(Ee,ve,\"INC\") #alterei o C para D, a principio tudo ok.\n",
    "\n",
    "        # Recupera as coordenadas do elemento\n",
    "        for i=1:nnos\n",
    "            # Descobre o nó\n",
    "            no = conectividades[ele,i]\n",
    "            \n",
    "            # Guarda os nós do elemento\n",
    "            nos[i] = no\n",
    "\n",
    "            # Descobre as coordenadas\n",
    "            X[i],Y[i] = coord[no,:]\n",
    "        end\n",
    "\n",
    "        # Monta a matriz de rigidez do elemento\n",
    "        # no sistema local, com o elementos escolhido\n",
    "        \n",
    "        G = G_up(dim,C,X,Y,esp) #vou deixar dentro de um loop caso queira montar para mais de um elemento.\n",
    "    end\n",
    "\n",
    "    return G \n",
    "end"
   ]
  }
 ],
 "metadata": {
  "kernelspec": {
   "display_name": "Julia 1.9.3",
   "language": "julia",
   "name": "julia-1.9"
  },
  "language_info": {
   "file_extension": ".jl",
   "mimetype": "application/julia",
   "name": "julia",
   "version": "1.9.3"
  }
 },
 "nbformat": 4,
 "nbformat_minor": 5
}
