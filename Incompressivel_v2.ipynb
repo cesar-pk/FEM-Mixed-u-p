{
 "cells": [
  {
   "cell_type": "code",
   "execution_count": 147,
   "id": "6b09cb74-005b-43dc-bd68-e58d35e08467",
   "metadata": {},
   "outputs": [
    {
     "data": {
      "text/plain": [
       "Aplica_CC_homo! (generic function with 2 methods)"
      ]
     },
     "execution_count": 147,
     "metadata": {},
     "output_type": "execute_result"
    }
   ],
   "source": [
    "using LinearAlgebra\n",
    "#APOIOS\n",
    "\n",
    "#\n",
    "# Aplica condições de contorno essenciais \n",
    "# homogêneas\n",
    "#\n",
    "function Aplica_CC_homo!(apoios,K,F)\n",
    "\n",
    "    # Aplica as condições de contorno essenciais homogêneas\n",
    "    for i=1:size(apoios,1) \n",
    "\n",
    "        # No e gl local do apoio\n",
    "        no  = Int(apoios[i,1])\n",
    "        gll = Int(apoios[i,2])\n",
    "\n",
    "        # Testa se o usuário tem ideia do que\n",
    "        # ele está fazendo\n",
    "        if apoios[i,3]!=0 \n",
    "            error(\"Sua anta\")\n",
    "        end\n",
    "\n",
    "        # Gl global\n",
    "        gl = 2*(no-1) + gll\n",
    "\n",
    "        # Zera linha e coluna da rigidez\n",
    "        K[gl,:] .= 0.0\n",
    "        K[:,gl] .= 0.0\n",
    "\n",
    "        # Zera o vetor de forças nesse gl\n",
    "        F[gl] = 0.0\n",
    "\n",
    "        #Zera o vetor G nesse gl\n",
    "        G[gl,:] .= 0.0\n",
    "\n",
    "        # Coloca 1.0 na diagonal\n",
    "        K[gl,gl] = 1.0\n",
    "\n",
    "    end #gls\n",
    "\n",
    "end"
   ]
  },
  {
   "cell_type": "code",
   "execution_count": 163,
   "id": "4e8a7c6e-0dc3-4117-a6c8-571976400d51",
   "metadata": {},
   "outputs": [
    {
     "data": {
      "text/plain": [
       "Gglobal (generic function with 1 method)"
      ]
     },
     "execution_count": 163,
     "metadata": {},
     "output_type": "execute_result"
    }
   ],
   "source": [
    "#GLOBAL \n",
    "\n",
    "#\n",
    "# conectividades é uma matriz com ne linhas (número de elementos)\n",
    "# e 2 colunas (nó inicial e nó final)\n",
    "#\n",
    "function Global(dim,ne,nnos,conectividades,coord, VE,Vnuxy, esp)\n",
    "\n",
    "    # Precisamos definir a matriz global\n",
    "    K = zeros(dim,dim)\n",
    "\n",
    "    # Aloca vetores para as coordenadas de cada elemento\n",
    "    X = zeros(nnos)\n",
    "    Y = zeros(nnos)\n",
    "    nos = zeros(nnos)\n",
    "    gls = zeros(Int,dim)\n",
    "    \n",
    "    # Loop nos elementos da malha, so tenho um elemento nesse primeiro problema.\n",
    "    ele = 1\n",
    "\n",
    "    # Recupera as informações do elemento\n",
    "    Ee = VE[ele]\n",
    "    ve = Vnuxy[ele]\n",
    "\n",
    "    # Monta a matriz constitutiva do elemento\n",
    "    C = Calcula_C(Ee,ve,\"INC\") #alterei o C para D com a hipotese de incompressibilidade.\n",
    "\n",
    "    # Recupera as coordenadas do elemento\n",
    "    for i=1:nnos\n",
    "        # Descobre o nó\n",
    "        no = conectividades[ele,i]\n",
    "        \n",
    "        # Guarda os nós do elemento\n",
    "        nos[i] = no\n",
    "\n",
    "        # Descobre as coordenadas\n",
    "        X[i],Y[i] = coord[no,:]\n",
    "    end\n",
    "    \n",
    "    # Monta a matriz de rigidez do elemento\n",
    "    # no sistema local, com o elementos escolhido\n",
    "    \n",
    "    Kg = K_up(dim,C,X,Y,esp)\n",
    "\n",
    "    return Kg\n",
    "end\n",
    "\n",
    "#\n",
    "# Monta o vetor de força global\n",
    "#\n",
    "function Forca_global(nnos,forcas)\n",
    "\n",
    "    # Montar o vetor de forças global\n",
    "    F = zeros(2*nnos)\n",
    "\n",
    "    # Para cada informação em forças \n",
    "    # posiciona a força no vetor de forças\n",
    "    # globais do problema\n",
    "    for i=1:size(forcas,1)\n",
    "       \n",
    "        # Recupera nó e gl local \n",
    "        no  = Int(forcas[i,1])\n",
    "        gll = Int(forcas[i,2])\n",
    "\n",
    "        # Recupera valor\n",
    "        valor = forcas[i,3]\n",
    "\n",
    "        # Adiciona ao valor da força\n",
    "        F[2*(no-1)+gll] += valor\n",
    "\n",
    "    end #i\n",
    "\n",
    "    return F\n",
    "end\n",
    "\n",
    "function Gglobal(dim,ne,nnos,conectividades,coord, VE,Vnuxy, esp)\n",
    "    # Aloca vetores para as coordenadas de cada elemento\n",
    "    X = zeros(nnos)\n",
    "    Y = zeros(nnos)\n",
    "    nos = zeros(nnos)\n",
    "    gls = zeros(Int,dim)\n",
    "\n",
    "    # Loop nos elementos da malha\n",
    "    ele=1\n",
    "\n",
    "    # Recupera as informações do elemento\n",
    "    Ee = VE[ele]\n",
    "    ve = Vnuxy[ele]\n",
    "\n",
    "    # Recupera as coordenadas do elemento\n",
    "    for i=1:nnos\n",
    "        # Descobre o nó\n",
    "        no = conectividades[ele,i]\n",
    "        \n",
    "        # Guarda os nós do elemento\n",
    "        nos[i] = no\n",
    "\n",
    "        # Descobre as coordenadas\n",
    "        X[i],Y[i] = coord[no,:]\n",
    "    end\n",
    "\n",
    "    # Monta a matriz G\n",
    "    \n",
    "    G = G_up(dim,X,Y,esp)\n",
    "    M = M_up(dim,X,Y,Ee,ve)\n",
    "\n",
    "    return G , M\n",
    "end\n"
   ]
  },
  {
   "cell_type": "code",
   "execution_count": 164,
   "id": "bc8f1884-2a3e-47b8-87e1-e410457382a8",
   "metadata": {},
   "outputs": [
    {
     "data": {
      "text/plain": [
       "Calcula_C (generic function with 2 methods)"
      ]
     },
     "execution_count": 164,
     "metadata": {},
     "output_type": "execute_result"
    }
   ],
   "source": [
    "#MATERIAL \n",
    "\n",
    "# Monta a matriz constitutiva dado E,v e a hipótese\n",
    "function Calcula_C(E,v,hipotese=\"INC\")\n",
    "\n",
    "    # Testa se hipotese é válida\n",
    "    hipotese in [\"EPT\",\"EPD\", \"INC\"] || throw(\"Hipotese errada\")\n",
    "    \n",
    "    G = E/(2*(1+v))\n",
    "\n",
    "    # adicionando trecho incompressibilidade -\n",
    "       \n",
    "    if hipotese==\"EPT\"\n",
    "        a = E/(1-v^2)\n",
    "        C = [a v*a 0.0 ;\n",
    "            v*a a  0.0 ;\n",
    "              0  0  G]\n",
    "\n",
    "    elseif hipotese==\"EPD\"\n",
    "        d = (v+1)*(2*v-1)  \n",
    "        a = E*(v-1)/d\n",
    "        b = -(E*v)/d\n",
    "        C = [a b 0 ;\n",
    "             b a 0 ;\n",
    "             0 0 G]\n",
    "        \n",
    "    elseif hipotese==\"INC\"\n",
    "        μ = E/(2*(1+v))\n",
    "        \n",
    "        C = [2*μ 0    0 ;\n",
    "              0   2*μ  0 ;\n",
    "              0   0    μ ]\n",
    "        \n",
    "    else\n",
    " \n",
    "        C = [a b b 0 0 0 ;\n",
    "             b a b 0 0 0 ;\n",
    "             b b a 0 0 0 ;\n",
    "             0 0 0 G 0 0 ;\n",
    "             0 0 0 0 G 0 ;\n",
    "             0 0 0 0 0 G]\n",
    "\n",
    "    end\n",
    "    \n",
    "    return C\n",
    "\n",
    "end\n"
   ]
  },
  {
   "cell_type": "code",
   "execution_count": 266,
   "id": "dade7e93-f7cf-447a-85c3-7ec277273057",
   "metadata": {},
   "outputs": [
    {
     "data": {
      "text/plain": [
       "M_up (generic function with 2 methods)"
      ]
     },
     "execution_count": 266,
     "metadata": {},
     "output_type": "execute_result"
    }
   ],
   "source": [
    "#MATERIAL\n",
    "\n",
    "# N1 = 0.25(1-r)(1-s)\n",
    "# N2 = 0.25(1+r)(1-s)\n",
    "# N3 = 0.25(1+r)(1+s)\n",
    "# N4 = 0.25(1-r)(1+s)\n",
    "\n",
    "#\n",
    "# Calcula a matriz B e o determinante da matriz\n",
    "# Jacobiana no ponto (r,s) \n",
    "#\n",
    "\n",
    "#B para o procedimento no elemento u-p é o mesmo que dos elementos normaais.\n",
    "function B_up(dim,r,s,X,Y)\n",
    "\n",
    "   # Vetores com as derivadas das funções de interpolação\n",
    "   # em relação a r e a s\n",
    "   dNr = [ -0.25*(1-s) ; 0.25*(1-s) ; 0.25*(1+s)  ; -0.25*(1+s)   ]\n",
    "   dNs = [ -0.25*(1-r) ;-0.25*(1+r) ; 0.25*(1+r)  ;  0.25*(1-r)   ]\n",
    "\n",
    "   # Aloca e calcula a matriz J\n",
    "   J = zeros(2,2)\n",
    "\n",
    "   # Loop do somatório para cada posição de J\n",
    "   for i=1:4\n",
    "       J[1,1] += dNr[i]*X[i]\n",
    "       J[1,2] += dNr[i]*Y[i]\n",
    "       J[2,1] += dNs[i]*X[i]\n",
    "       J[2,2] += dNs[i]*Y[i]\n",
    "   end #i\n",
    "\n",
    "   # Calcula o determinante\n",
    "   dJ = det(J)\n",
    "\n",
    "   # Calcula a inversa da J\n",
    "   invJ = inv(J)\n",
    "\n",
    "   # Aloca a matriz B\n",
    "   B = zeros(3,dim)\n",
    "\n",
    "   # Loop pelos blocos da B, com as correções de derivadas\n",
    "   c = 1\n",
    "   for i=1:4\n",
    "     \n",
    "       # Correção das derivadas para este bloco\n",
    "       dNxy = invJ*[dNr[i];dNs[i]]\n",
    "\n",
    "       # Posiciona na B\n",
    "       B[1,c]   = dNxy[1]\n",
    "       B[2,c+1] = dNxy[2]\n",
    "       B[3,c]   = dNxy[2]\n",
    "       B[3,c+1] = dNxy[1]\n",
    "\n",
    "       # Atualiza a apontador de bloco\n",
    "       c += 2\n",
    "\n",
    "   end #i\n",
    "\n",
    "   return dJ, B\n",
    "end\n",
    "\n",
    "#\n",
    "# Monta a matriz de rigidez de um elemento\n",
    "# bilinear isoparamétrico de 4 nós para formulação u-p. \n",
    "#\n",
    "function K_up(dim, C::AbstractMatrix,X::Vector,Y::Vector,esp::Float64)\n",
    "\n",
    "    # Aloca a matriz do elemento\n",
    "    K = zeros(dim,dim)\n",
    "\n",
    "    # Define a quadratura \n",
    "    pg = [-1/sqrt(3) ; 1/sqrt(3)]\n",
    "    W  = [1.0 ; 1.0]\n",
    "\n",
    "    # Loop pelos pontos de Gauss\n",
    "    for i=1:2\n",
    "        r  = pg[i]\n",
    "        wr = W[i]\n",
    "        for j=1:2\n",
    "           s  = pg[j]  \n",
    "           ws = W[j]\n",
    "\n",
    "           # calcula o dJ e o B\n",
    "           dJ, B = B_up(dim,r,s,X,Y)\n",
    "\n",
    "           # Acumula o produto nesses ptos\n",
    "           K = K + B'*C*B*dJ*esp\n",
    "\n",
    "        end #j\n",
    "    end # i\n",
    "\n",
    "    # Retorna a matriz de rigidez do elmemento\n",
    "    return K\n",
    "\n",
    "end\n",
    "\n",
    "#operador diferencial divergente\n",
    "\n",
    "function Bb_up(dim,r,s,X,Y) \n",
    "\n",
    "   # Vetores com as derivadas das funções de interpolação\n",
    "   # em relação a r e a s\n",
    "   dNr = [ -0.25*(1-s) ; 0.25*(1-s) ; 0.25*(1+s)  ; -0.25*(1+s)   ]\n",
    "   dNs = [ -0.25*(1-r) ;-0.25*(1+r) ; 0.25*(1+r)  ;  0.25*(1-r)   ]\n",
    "\n",
    "   # Aloca e calcula a matriz J\n",
    "   J = zeros(2,2)\n",
    "\n",
    "   # Loop do somatório para cada posição de J\n",
    "   for i=1:4\n",
    "       J[1,1] += dNr[i]*X[i]\n",
    "       J[1,2] += dNr[i]*Y[i]\n",
    "       J[2,1] += dNs[i]*X[i]\n",
    "       J[2,2] += dNs[i]*Y[i]\n",
    "   end #i\n",
    "\n",
    "   # Calcula o determinante\n",
    "   dJ = det(J)\n",
    "\n",
    "   # Calcula a inversa da J\n",
    "   invJ = inv(J)\n",
    "\n",
    "   # Aloca a matriz Bbolinha\n",
    "   B = zeros(dim,1)\n",
    "\n",
    "   # Loop pelos blocos da B, com as correções de derivadas\n",
    "   c = 1\n",
    "\n",
    "    #essa e a matriz Bbolinha que aplica o operador gradiente (∇)\n",
    "   for i=1:4\n",
    "        # Correção das derivadas para este bloco\n",
    "        dNxy = invJ*[dNr[i];dNs[i]]\n",
    "        \n",
    "        # Posiciona na B\n",
    "        B[c,1] = dNxy[1]\n",
    "        B[c+1,1] = dNxy[2]\n",
    "        \n",
    "        # Atualiza a apontador de bloco\n",
    "        c += 2\n",
    "\n",
    "   end #i\n",
    "   return dJ, B\n",
    "end\n",
    "\n",
    "#\n",
    "# Monta a matriz G\n",
    "\n",
    "function G_up(dim,X::Vector,Y::Vector,esp::Float64)\n",
    "\n",
    "    # Aloca a matriz do elemento\n",
    "    G = zeros(dim,1)\n",
    "\n",
    "    # Define a quadratura \n",
    "    pg = [-1/sqrt(3) ; 1/sqrt(3)]\n",
    "    W  = [1.0 ; 1.0]\n",
    "    # Loop pelos pontos de Gauss\n",
    "    for i=1:2\n",
    "        r  = pg[i]\n",
    "        wr = W[i]\n",
    "        for j=1:2\n",
    "            s  = pg[j]  \n",
    "            ws = W[j]\n",
    "            # calcula o dJ e o B\n",
    "            dJ, B = Bb_up(dim,r,s,X,Y)\n",
    "\n",
    "            \n",
    "            # Acumula o produto nesses ptos\n",
    "            G = G + B*dJ\n",
    "        end #j\n",
    "    end # i\n",
    "\n",
    "    # Retorna a matriz de rigidez do elmemento\n",
    "    return G\n",
    "\n",
    "end\n",
    "\n",
    "function M_up(dim,X::Vector,Y::Vector,E,ν)\n",
    "\n",
    "    # Aloca a matriz do elemento\n",
    "    M = 0\n",
    "    #K = E / (3 * (1 - 2 * ν))\n",
    "    K = (ν*E) / ((1+ν)*(1-2*ν))\n",
    "    # Define a quadratura \n",
    "    pg = [-1/sqrt(3) ; 1/sqrt(3)]\n",
    "    W  = [1.0 ; 1.0]\n",
    "    # Loop pelos pontos de Gauss\n",
    "    for i=1:2\n",
    "        r  = pg[i]\n",
    "        wr = W[i]\n",
    "        for j=1:2\n",
    "            s  = pg[j]  \n",
    "            ws = W[j]\n",
    "            # calcula o dJ e o B\n",
    "            dJ, B = Bb_up(dim,r,s,X,Y)\n",
    "\n",
    "            \n",
    "            # Acumula o produto nesses ptos\n",
    "            M = (M + 1/K)*dJ\n",
    "        end #j\n",
    "    end # i\n",
    "\n",
    "    # Retorna a matriz de rigidez do elmemento\n",
    "    return M\n",
    "\n",
    "end\n"
   ]
  },
  {
   "cell_type": "code",
   "execution_count": 267,
   "id": "9aae7373-dab0-48d4-9bad-3b9449bc50d5",
   "metadata": {},
   "outputs": [
    {
     "data": {
      "text/plain": [
       "main_inc (generic function with 1 method)"
      ]
     },
     "execution_count": 267,
     "metadata": {},
     "output_type": "execute_result"
    }
   ],
   "source": [
    "#função que define o meu problema. Elemento com dimensoes diferentes. \n",
    "function incomp(v0)\n",
    "    \n",
    "    nnos = 4\n",
    "    ne = 1\n",
    "    \n",
    "    #quantos graus de liberdade tenho por no:\n",
    "    glsno = 2\n",
    "\n",
    "    #variavel auxiliar que determina as dimensões do problema. N total de graus de liberdade\n",
    "    dim = nnos*glsno \n",
    "\n",
    "    coord = [0.0   0.0   ; #n1\n",
    "             2.0   0.0   ; #n2\n",
    "             2.0   2.0   ; #n3\n",
    "             0.0   2.0   ] #n4                      \n",
    "\n",
    "    \n",
    "    conectividades = [1 2 3 4]\n",
    "\n",
    "    VE =    ones(ne) #Modulo de elasticidade do elemento\n",
    "    Vnuxy = v0*ones(ne) #Poisson do elemento.\n",
    "    \n",
    "    E = VE[1]\n",
    "    ν = Vnuxy[1]\n",
    "\n",
    "    #Vou precisar para montar a matriz M.\n",
    "    λ = (ν*E) / ((1+ν)*(1-2*ν))\n",
    "\n",
    "    # Espessura\n",
    "    esp = 1.0\n",
    "\n",
    "    # Apoios (cond. de contorno essenciais)\n",
    "    #        no gl valor\n",
    "    apoios = [1 1 0.0;\n",
    "              1 2 0.0;\n",
    "              2 2 0.0]\n",
    "\n",
    "    # Forças (cond. de contorno naturais)\n",
    "    #         no gl valor\n",
    "    P = 1\n",
    "    forcas = [3  2  P;\n",
    "              4  2  P]\n",
    "    \n",
    "\n",
    "    return nnos, ne,dim,coord,conectividades,VE,Vnuxy,esp,apoios,forcas,λ\n",
    "end\n",
    "\n",
    "\n",
    "#função que roda todas as rotinas, estou dando de entrada a função que define o meu problema e o poisson, pra ficar facil de testar.\n",
    "function main_inc(func::Function, v0)\n",
    "\n",
    "    nnos, ne,dim,coord,conectividades,VE,Vnuxy,esp,apoios,forcas,λ = func(v0)\n",
    "    \n",
    "    K = Global(dim,ne,nnos,conectividades,coord, VE, Vnuxy, esp)\n",
    "    \n",
    "    G,M = Gglobal(dim,ne,nnos,conectividades,coord, VE, Vnuxy, esp)\n",
    "    #@show Mt\n",
    "    \n",
    "    F = Forca_global(nnos,forcas)\n",
    "\n",
    "    # Modifica o sistema pela aplicação das condições de contorno\n",
    "    # homogêneas\n",
    "    Aplica_CC_homo!(apoios,K,F,G)\n",
    "\n",
    "    \n",
    "    #monta a matriz M:\n",
    "    #M = (1/λ)*Mt\n",
    "    #ones(1,1)\n",
    "\n",
    "    #Matriz H zerada:\n",
    "    H = zeros(1,1)\n",
    "\n",
    "    \n",
    "    #A = [K  G;\n",
    "    #     G' M ]\n",
    "    \n",
    "    if Vnuxy[1]==0.5\n",
    "        println(\"Caso incompressível, procedimento 2 Hughes: \")\n",
    "        M = zeros(1,1)\n",
    "\n",
    "        #G'INV(K)G)p = G'INV(K)F-H\n",
    "        #Estou considerando H como 0.\n",
    "        #G parece perfeitamente ok. \n",
    "        \n",
    "        leq = G'*inv(K)*G\n",
    "        req = G'*inv(K)*F \n",
    "\n",
    "        p = leq\\req\n",
    "        #Kd + Gp = F\n",
    "        #Kd = F - Gp \n",
    "\n",
    "        req2 = F - G*p\n",
    "        d = K\\req2\n",
    "\n",
    "    else\n",
    "        #(K-G*inv(M)*G')*d = F-G*inv(M)*H  # 4.3.25\n",
    "        #leq = (K-G*inv(M)*G')\n",
    "        #req = F-GM*H = F\n",
    "        \n",
    "        println(\"Caso compressível, procedimento 1 Hughes: \")\n",
    "        \n",
    "        leq = K+(G*(G'*(1/M)))\n",
    "        \n",
    "        #req = F - (G*inv(M)*H) como H = 0 req = F\n",
    "        req = F - (G*(1/M)*H)\n",
    "        d = leq\\req\n",
    "        p = (1/M)*G'*d\n",
    "        @show M\n",
    "    end\n",
    "\n",
    "\n",
    "    return d,p,K,G,M,λ\n",
    "end\n",
    "\n",
    "\n"
   ]
  },
  {
   "cell_type": "code",
   "execution_count": 268,
   "id": "9de6895d-7d49-4422-b763-fc43ad058925",
   "metadata": {},
   "outputs": [
    {
     "data": {
      "text/plain": [
       "caso_d (generic function with 1 method)"
      ]
     },
     "execution_count": 268,
     "metadata": {},
     "output_type": "execute_result"
    }
   ],
   "source": [
    "using NBInclude\n",
    "@nbinclude(\"casos.ipynb\")"
   ]
  },
  {
   "cell_type": "code",
   "execution_count": 269,
   "id": "455fb5b4-bc97-448f-860d-d0fa959da087",
   "metadata": {
    "scrolled": true
   },
   "outputs": [
    {
     "name": "stdout",
     "output_type": "stream",
     "text": [
      "Caso compressível, procedimento 1 Hughes: \n",
      "M = 14.399999999999999\n"
     ]
    },
    {
     "data": {
      "text/plain": [
       "8×1 Matrix{Float64}:\n",
       "  0.0\n",
       "  0.0\n",
       " -0.4800000000000004\n",
       "  0.0\n",
       " -0.4800000000000009\n",
       "  1.920000000000001\n",
       " -9.135549459772722e-16\n",
       "  1.92"
      ]
     },
     "metadata": {},
     "output_type": "display_data"
    },
    {
     "data": {
      "text/plain": [
       "1×1 Matrix{Float64}:\n",
       " 0.20000000000000004"
      ]
     },
     "metadata": {},
     "output_type": "display_data"
    }
   ],
   "source": [
    "d,p,K,G,M,λ = main_inc(caso_0,0.2)\n",
    "display(d)\n",
    "display(p)"
   ]
  },
  {
   "cell_type": "code",
   "execution_count": 270,
   "id": "7c25c582-2a3b-4bec-bf3f-5ca5e9dcf81c",
   "metadata": {},
   "outputs": [
    {
     "data": {
      "text/plain": [
       "1×1 Matrix{Float64}:\n",
       " 3.5999999999999996"
      ]
     },
     "execution_count": 270,
     "metadata": {},
     "output_type": "execute_result"
    }
   ],
   "source": [
    "t = 1/λ*ones(1,1)"
   ]
  },
  {
   "cell_type": "code",
   "execution_count": 275,
   "id": "b87d217d-d9ee-4c7c-80f3-6d3249e61d57",
   "metadata": {},
   "outputs": [
    {
     "data": {
      "text/plain": [
       "8-element Vector{Float64}:\n",
       " 1.0\n",
       " 0.0\n",
       " 0.0\n",
       " 0.0\n",
       " 0.0\n",
       " 0.0\n",
       " 0.0\n",
       " 0.0"
      ]
     },
     "execution_count": 275,
     "metadata": {},
     "output_type": "execute_result"
    }
   ],
   "source": [
    "K[1,:]"
   ]
  },
  {
   "cell_type": "code",
   "execution_count": 260,
   "id": "88b96516-0b79-406b-b60b-acd8d80936e0",
   "metadata": {},
   "outputs": [
    {
     "data": {
      "text/plain": [
       "1×1 Matrix{Float64}:\n",
       " 0.13513513513513517"
      ]
     },
     "execution_count": 260,
     "metadata": {},
     "output_type": "execute_result"
    }
   ],
   "source": [
    "p2"
   ]
  },
  {
   "cell_type": "code",
   "execution_count": 157,
   "id": "ca93e80e-43bb-43c9-8c88-3282478b0572",
   "metadata": {},
   "outputs": [
    {
     "name": "stdout",
     "output_type": "stream",
     "text": [
      "Mt = [16.0;;]\n",
      "Caso compressível, procedimento 1 Hughes: \n"
     ]
    },
    {
     "data": {
      "text/plain": [
       "8×1 Matrix{Float64}:\n",
       " -1.20000187499333\n",
       "  0.0\n",
       " -1.2000018749933299\n",
       "  0.0\n",
       "  0.0\n",
       "  0.0\n",
       "  0.0\n",
       "  0.0"
      ]
     },
     "metadata": {},
     "output_type": "display_data"
    },
    {
     "data": {
      "text/plain": [
       "1×1 Matrix{Float64}:\n",
       " -0.011565079012604396"
      ]
     },
     "metadata": {},
     "output_type": "display_data"
    }
   ],
   "source": [
    "d,p = main_inc(caso_B,0.499999999999)\n",
    "display(d)\n",
    "display(p)"
   ]
  },
  {
   "cell_type": "code",
   "execution_count": 158,
   "id": "d9fdfb75-f9de-4a1d-9a40-7c128a8d5c39",
   "metadata": {},
   "outputs": [
    {
     "name": "stdout",
     "output_type": "stream",
     "text": [
      "Mt = [16.0;;]\n",
      "Caso incompressível, procedimento 2 Hughes: \n"
     ]
    },
    {
     "data": {
      "text/plain": [
       "([-1.2000000000000002, 0.0, -1.2, 0.0, 0.0, 0.0, 0.0, 0.0], [0.0], [1666.6666666666665 0.0 … 0.0 0.0; 0.0 1.0 … 0.0 0.0; … ; 0.0 0.0 … 1.0 0.0; 0.0 0.0 … 0.0 1.0], [-1.0; 0.0; … ; 0.0; 0.0;;], [0.0;;], Inf)"
      ]
     },
     "execution_count": 158,
     "metadata": {},
     "output_type": "execute_result"
    }
   ],
   "source": [
    "d,p = main_inc(caso_B,0.5)"
   ]
  },
  {
   "cell_type": "code",
   "execution_count": 159,
   "id": "0eaf9a48-d12b-4312-b15d-8d94c5e12c9b",
   "metadata": {},
   "outputs": [
    {
     "data": {
      "text/plain": [
       "1-element Vector{Float64}:\n",
       " 0.0"
      ]
     },
     "execution_count": 159,
     "metadata": {},
     "output_type": "execute_result"
    }
   ],
   "source": [
    "p"
   ]
  },
  {
   "cell_type": "code",
   "execution_count": null,
   "id": "ee6866c3-89ef-454c-918c-b27cc26bf812",
   "metadata": {},
   "outputs": [],
   "source": []
  }
 ],
 "metadata": {
  "kernelspec": {
   "display_name": "Julia 1.9.3",
   "language": "julia",
   "name": "julia-1.9"
  },
  "language_info": {
   "file_extension": ".jl",
   "mimetype": "application/julia",
   "name": "julia",
   "version": "1.9.3"
  }
 },
 "nbformat": 4,
 "nbformat_minor": 5
}
